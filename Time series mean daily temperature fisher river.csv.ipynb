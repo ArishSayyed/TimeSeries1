{
 "cells": [
  {
   "cell_type": "code",
   "execution_count": 1,
   "metadata": {},
   "outputs": [],
   "source": [
    "from __future__ import print_function\n",
    "import os\n",
    "import pandas as pd\n",
    "import numpy as np\n",
    "import matplotlib.pyplot as plt\n",
    "%matplotlib inline\n",
    "import seaborn as sns"
   ]
  },
  {
   "cell_type": "code",
   "execution_count": 2,
   "metadata": {},
   "outputs": [
    {
     "data": {
      "text/html": [
       "<div>\n",
       "<style scoped>\n",
       "    .dataframe tbody tr th:only-of-type {\n",
       "        vertical-align: middle;\n",
       "    }\n",
       "\n",
       "    .dataframe tbody tr th {\n",
       "        vertical-align: top;\n",
       "    }\n",
       "\n",
       "    .dataframe thead th {\n",
       "        text-align: right;\n",
       "    }\n",
       "</style>\n",
       "<table border=\"1\" class=\"dataframe\">\n",
       "  <thead>\n",
       "    <tr style=\"text-align: right;\">\n",
       "      <th></th>\n",
       "      <th>Date</th>\n",
       "      <th>Mean temparature</th>\n",
       "    </tr>\n",
       "  </thead>\n",
       "  <tbody>\n",
       "    <tr>\n",
       "      <th>0</th>\n",
       "      <td>1988-01-01</td>\n",
       "      <td>-23.0</td>\n",
       "    </tr>\n",
       "    <tr>\n",
       "      <th>1</th>\n",
       "      <td>1988-01-02</td>\n",
       "      <td>-20.5</td>\n",
       "    </tr>\n",
       "    <tr>\n",
       "      <th>2</th>\n",
       "      <td>1988-01-03</td>\n",
       "      <td>-22.0</td>\n",
       "    </tr>\n",
       "    <tr>\n",
       "      <th>3</th>\n",
       "      <td>1988-01-04</td>\n",
       "      <td>-30.5</td>\n",
       "    </tr>\n",
       "    <tr>\n",
       "      <th>4</th>\n",
       "      <td>1988-01-05</td>\n",
       "      <td>-31.0</td>\n",
       "    </tr>\n",
       "  </tbody>\n",
       "</table>\n",
       "</div>"
      ],
      "text/plain": [
       "         Date  Mean temparature\n",
       "0  1988-01-01             -23.0\n",
       "1  1988-01-02             -20.5\n",
       "2  1988-01-03             -22.0\n",
       "3  1988-01-04             -30.5\n",
       "4  1988-01-05             -31.0"
      ]
     },
     "execution_count": 2,
     "metadata": {},
     "output_type": "execute_result"
    }
   ],
   "source": [
    "df= pd.read_csv(\"mean-daily-temperature-fisher-river.csv\")\n",
    "df.head()"
   ]
  },
  {
   "cell_type": "code",
   "execution_count": 3,
   "metadata": {},
   "outputs": [
    {
     "name": "stdout",
     "output_type": "stream",
     "text": [
      "<class 'pandas.core.frame.DataFrame'>\n",
      "RangeIndex: 1461 entries, 0 to 1460\n",
      "Data columns (total 2 columns):\n",
      "Date                1461 non-null object\n",
      "Mean temparature    1461 non-null float64\n",
      "dtypes: float64(1), object(1)\n",
      "memory usage: 22.9+ KB\n"
     ]
    }
   ],
   "source": [
    "df.info()"
   ]
  },
  {
   "cell_type": "code",
   "execution_count": 4,
   "metadata": {},
   "outputs": [
    {
     "data": {
      "text/html": [
       "<div>\n",
       "<style scoped>\n",
       "    .dataframe tbody tr th:only-of-type {\n",
       "        vertical-align: middle;\n",
       "    }\n",
       "\n",
       "    .dataframe tbody tr th {\n",
       "        vertical-align: top;\n",
       "    }\n",
       "\n",
       "    .dataframe thead th {\n",
       "        text-align: right;\n",
       "    }\n",
       "</style>\n",
       "<table border=\"1\" class=\"dataframe\">\n",
       "  <thead>\n",
       "    <tr style=\"text-align: right;\">\n",
       "      <th></th>\n",
       "      <th>Mean temparature</th>\n",
       "    </tr>\n",
       "  </thead>\n",
       "  <tbody>\n",
       "    <tr>\n",
       "      <th>count</th>\n",
       "      <td>1461.000000</td>\n",
       "    </tr>\n",
       "    <tr>\n",
       "      <th>mean</th>\n",
       "      <td>0.803320</td>\n",
       "    </tr>\n",
       "    <tr>\n",
       "      <th>std</th>\n",
       "      <td>15.154634</td>\n",
       "    </tr>\n",
       "    <tr>\n",
       "      <th>min</th>\n",
       "      <td>-35.000000</td>\n",
       "    </tr>\n",
       "    <tr>\n",
       "      <th>25%</th>\n",
       "      <td>-11.250000</td>\n",
       "    </tr>\n",
       "    <tr>\n",
       "      <th>50%</th>\n",
       "      <td>2.000000</td>\n",
       "    </tr>\n",
       "    <tr>\n",
       "      <th>75%</th>\n",
       "      <td>14.500000</td>\n",
       "    </tr>\n",
       "    <tr>\n",
       "      <th>max</th>\n",
       "      <td>27.000000</td>\n",
       "    </tr>\n",
       "  </tbody>\n",
       "</table>\n",
       "</div>"
      ],
      "text/plain": [
       "       Mean temparature\n",
       "count       1461.000000\n",
       "mean           0.803320\n",
       "std           15.154634\n",
       "min          -35.000000\n",
       "25%          -11.250000\n",
       "50%            2.000000\n",
       "75%           14.500000\n",
       "max           27.000000"
      ]
     },
     "execution_count": 4,
     "metadata": {},
     "output_type": "execute_result"
    }
   ],
   "source": [
    "df.describe()"
   ]
  },
  {
   "cell_type": "code",
   "execution_count": 5,
   "metadata": {},
   "outputs": [
    {
     "data": {
      "text/html": [
       "<div>\n",
       "<style scoped>\n",
       "    .dataframe tbody tr th:only-of-type {\n",
       "        vertical-align: middle;\n",
       "    }\n",
       "\n",
       "    .dataframe tbody tr th {\n",
       "        vertical-align: top;\n",
       "    }\n",
       "\n",
       "    .dataframe thead th {\n",
       "        text-align: right;\n",
       "    }\n",
       "</style>\n",
       "<table border=\"1\" class=\"dataframe\">\n",
       "  <thead>\n",
       "    <tr style=\"text-align: right;\">\n",
       "      <th></th>\n",
       "      <th>Date</th>\n",
       "    </tr>\n",
       "  </thead>\n",
       "  <tbody>\n",
       "    <tr>\n",
       "      <th>count</th>\n",
       "      <td>1461</td>\n",
       "    </tr>\n",
       "    <tr>\n",
       "      <th>unique</th>\n",
       "      <td>1461</td>\n",
       "    </tr>\n",
       "    <tr>\n",
       "      <th>top</th>\n",
       "      <td>1990-01-10</td>\n",
       "    </tr>\n",
       "    <tr>\n",
       "      <th>freq</th>\n",
       "      <td>1</td>\n",
       "    </tr>\n",
       "  </tbody>\n",
       "</table>\n",
       "</div>"
      ],
      "text/plain": [
       "              Date\n",
       "count         1461\n",
       "unique        1461\n",
       "top     1990-01-10\n",
       "freq             1"
      ]
     },
     "execution_count": 5,
     "metadata": {},
     "output_type": "execute_result"
    }
   ],
   "source": [
    "df.describe(include= np.object) #For Categorical Data"
   ]
  },
  {
   "cell_type": "markdown",
   "metadata": {},
   "source": [
    "# Converting object inti DateTime"
   ]
  },
  {
   "cell_type": "code",
   "execution_count": 6,
   "metadata": {},
   "outputs": [],
   "source": [
    "df['Date'] = pd.to_datetime(df['Date'])"
   ]
  },
  {
   "cell_type": "code",
   "execution_count": 7,
   "metadata": {},
   "outputs": [
    {
     "name": "stdout",
     "output_type": "stream",
     "text": [
      "<class 'pandas.core.frame.DataFrame'>\n",
      "RangeIndex: 1461 entries, 0 to 1460\n",
      "Data columns (total 2 columns):\n",
      "Date                1461 non-null datetime64[ns]\n",
      "Mean temparature    1461 non-null float64\n",
      "dtypes: datetime64[ns](1), float64(1)\n",
      "memory usage: 22.9 KB\n"
     ]
    }
   ],
   "source": [
    "df.info()"
   ]
  },
  {
   "cell_type": "markdown",
   "metadata": {},
   "source": [
    "# Indexing"
   ]
  },
  {
   "cell_type": "code",
   "execution_count": 8,
   "metadata": {},
   "outputs": [
    {
     "data": {
      "text/html": [
       "<div>\n",
       "<style scoped>\n",
       "    .dataframe tbody tr th:only-of-type {\n",
       "        vertical-align: middle;\n",
       "    }\n",
       "\n",
       "    .dataframe tbody tr th {\n",
       "        vertical-align: top;\n",
       "    }\n",
       "\n",
       "    .dataframe thead th {\n",
       "        text-align: right;\n",
       "    }\n",
       "</style>\n",
       "<table border=\"1\" class=\"dataframe\">\n",
       "  <thead>\n",
       "    <tr style=\"text-align: right;\">\n",
       "      <th></th>\n",
       "      <th>Date</th>\n",
       "      <th>Mean temparature</th>\n",
       "    </tr>\n",
       "    <tr>\n",
       "      <th>Date</th>\n",
       "      <th></th>\n",
       "      <th></th>\n",
       "    </tr>\n",
       "  </thead>\n",
       "  <tbody>\n",
       "    <tr>\n",
       "      <th>1988-01-01</th>\n",
       "      <td>1988-01-01</td>\n",
       "      <td>-23.0</td>\n",
       "    </tr>\n",
       "    <tr>\n",
       "      <th>1988-01-02</th>\n",
       "      <td>1988-01-02</td>\n",
       "      <td>-20.5</td>\n",
       "    </tr>\n",
       "    <tr>\n",
       "      <th>1988-01-03</th>\n",
       "      <td>1988-01-03</td>\n",
       "      <td>-22.0</td>\n",
       "    </tr>\n",
       "    <tr>\n",
       "      <th>1988-01-04</th>\n",
       "      <td>1988-01-04</td>\n",
       "      <td>-30.5</td>\n",
       "    </tr>\n",
       "    <tr>\n",
       "      <th>1988-01-05</th>\n",
       "      <td>1988-01-05</td>\n",
       "      <td>-31.0</td>\n",
       "    </tr>\n",
       "  </tbody>\n",
       "</table>\n",
       "</div>"
      ],
      "text/plain": [
       "                 Date  Mean temparature\n",
       "Date                                   \n",
       "1988-01-01 1988-01-01             -23.0\n",
       "1988-01-02 1988-01-02             -20.5\n",
       "1988-01-03 1988-01-03             -22.0\n",
       "1988-01-04 1988-01-04             -30.5\n",
       "1988-01-05 1988-01-05             -31.0"
      ]
     },
     "execution_count": 8,
     "metadata": {},
     "output_type": "execute_result"
    }
   ],
   "source": [
    "df.index= df[\"Date\"]\n",
    "df.head()"
   ]
  },
  {
   "cell_type": "code",
   "execution_count": 9,
   "metadata": {
    "scrolled": true
   },
   "outputs": [
    {
     "data": {
      "text/html": [
       "<div>\n",
       "<style scoped>\n",
       "    .dataframe tbody tr th:only-of-type {\n",
       "        vertical-align: middle;\n",
       "    }\n",
       "\n",
       "    .dataframe tbody tr th {\n",
       "        vertical-align: top;\n",
       "    }\n",
       "\n",
       "    .dataframe thead th {\n",
       "        text-align: right;\n",
       "    }\n",
       "</style>\n",
       "<table border=\"1\" class=\"dataframe\">\n",
       "  <thead>\n",
       "    <tr style=\"text-align: right;\">\n",
       "      <th></th>\n",
       "      <th>Date</th>\n",
       "      <th>Mean temparature</th>\n",
       "    </tr>\n",
       "    <tr>\n",
       "      <th>Date</th>\n",
       "      <th></th>\n",
       "      <th></th>\n",
       "    </tr>\n",
       "  </thead>\n",
       "  <tbody>\n",
       "    <tr>\n",
       "      <th>1988-01-01</th>\n",
       "      <td>1988-01-01</td>\n",
       "      <td>-23.00</td>\n",
       "    </tr>\n",
       "    <tr>\n",
       "      <th>1988-01-02</th>\n",
       "      <td>1988-01-02</td>\n",
       "      <td>-20.50</td>\n",
       "    </tr>\n",
       "    <tr>\n",
       "      <th>1988-01-03</th>\n",
       "      <td>1988-01-03</td>\n",
       "      <td>-22.00</td>\n",
       "    </tr>\n",
       "    <tr>\n",
       "      <th>1988-01-04</th>\n",
       "      <td>1988-01-04</td>\n",
       "      <td>-30.50</td>\n",
       "    </tr>\n",
       "    <tr>\n",
       "      <th>1988-01-05</th>\n",
       "      <td>1988-01-05</td>\n",
       "      <td>-31.00</td>\n",
       "    </tr>\n",
       "    <tr>\n",
       "      <th>1988-01-06</th>\n",
       "      <td>1988-01-06</td>\n",
       "      <td>-27.50</td>\n",
       "    </tr>\n",
       "    <tr>\n",
       "      <th>1988-01-07</th>\n",
       "      <td>1988-01-07</td>\n",
       "      <td>-26.25</td>\n",
       "    </tr>\n",
       "    <tr>\n",
       "      <th>1988-01-08</th>\n",
       "      <td>1988-01-08</td>\n",
       "      <td>-26.50</td>\n",
       "    </tr>\n",
       "    <tr>\n",
       "      <th>1988-01-09</th>\n",
       "      <td>1988-01-09</td>\n",
       "      <td>-23.00</td>\n",
       "    </tr>\n",
       "    <tr>\n",
       "      <th>1988-01-10</th>\n",
       "      <td>1988-01-10</td>\n",
       "      <td>-23.50</td>\n",
       "    </tr>\n",
       "    <tr>\n",
       "      <th>1988-01-11</th>\n",
       "      <td>1988-01-11</td>\n",
       "      <td>-27.00</td>\n",
       "    </tr>\n",
       "    <tr>\n",
       "      <th>1988-01-12</th>\n",
       "      <td>1988-01-12</td>\n",
       "      <td>-26.50</td>\n",
       "    </tr>\n",
       "    <tr>\n",
       "      <th>1988-01-13</th>\n",
       "      <td>1988-01-13</td>\n",
       "      <td>-28.50</td>\n",
       "    </tr>\n",
       "    <tr>\n",
       "      <th>1988-01-14</th>\n",
       "      <td>1988-01-14</td>\n",
       "      <td>-24.25</td>\n",
       "    </tr>\n",
       "    <tr>\n",
       "      <th>1988-01-15</th>\n",
       "      <td>1988-01-15</td>\n",
       "      <td>-12.25</td>\n",
       "    </tr>\n",
       "    <tr>\n",
       "      <th>1988-01-16</th>\n",
       "      <td>1988-01-16</td>\n",
       "      <td>-11.25</td>\n",
       "    </tr>\n",
       "    <tr>\n",
       "      <th>1988-01-17</th>\n",
       "      <td>1988-01-17</td>\n",
       "      <td>-17.50</td>\n",
       "    </tr>\n",
       "    <tr>\n",
       "      <th>1988-01-18</th>\n",
       "      <td>1988-01-18</td>\n",
       "      <td>-18.00</td>\n",
       "    </tr>\n",
       "    <tr>\n",
       "      <th>1988-01-19</th>\n",
       "      <td>1988-01-19</td>\n",
       "      <td>-15.50</td>\n",
       "    </tr>\n",
       "    <tr>\n",
       "      <th>1988-01-20</th>\n",
       "      <td>1988-01-20</td>\n",
       "      <td>-19.50</td>\n",
       "    </tr>\n",
       "    <tr>\n",
       "      <th>1988-01-21</th>\n",
       "      <td>1988-01-21</td>\n",
       "      <td>-15.00</td>\n",
       "    </tr>\n",
       "    <tr>\n",
       "      <th>1988-01-22</th>\n",
       "      <td>1988-01-22</td>\n",
       "      <td>-21.00</td>\n",
       "    </tr>\n",
       "    <tr>\n",
       "      <th>1988-01-23</th>\n",
       "      <td>1988-01-23</td>\n",
       "      <td>-21.00</td>\n",
       "    </tr>\n",
       "    <tr>\n",
       "      <th>1988-01-24</th>\n",
       "      <td>1988-01-24</td>\n",
       "      <td>-20.00</td>\n",
       "    </tr>\n",
       "    <tr>\n",
       "      <th>1988-01-25</th>\n",
       "      <td>1988-01-25</td>\n",
       "      <td>-28.00</td>\n",
       "    </tr>\n",
       "    <tr>\n",
       "      <th>1988-01-26</th>\n",
       "      <td>1988-01-26</td>\n",
       "      <td>-26.50</td>\n",
       "    </tr>\n",
       "    <tr>\n",
       "      <th>1988-01-27</th>\n",
       "      <td>1988-01-27</td>\n",
       "      <td>-23.50</td>\n",
       "    </tr>\n",
       "    <tr>\n",
       "      <th>1988-01-28</th>\n",
       "      <td>1988-01-28</td>\n",
       "      <td>-19.25</td>\n",
       "    </tr>\n",
       "    <tr>\n",
       "      <th>1988-01-29</th>\n",
       "      <td>1988-01-29</td>\n",
       "      <td>-13.50</td>\n",
       "    </tr>\n",
       "    <tr>\n",
       "      <th>1988-01-30</th>\n",
       "      <td>1988-01-30</td>\n",
       "      <td>-19.00</td>\n",
       "    </tr>\n",
       "    <tr>\n",
       "      <th>...</th>\n",
       "      <td>...</td>\n",
       "      <td>...</td>\n",
       "    </tr>\n",
       "    <tr>\n",
       "      <th>1988-12-02</th>\n",
       "      <td>1988-12-02</td>\n",
       "      <td>-4.00</td>\n",
       "    </tr>\n",
       "    <tr>\n",
       "      <th>1988-12-03</th>\n",
       "      <td>1988-12-03</td>\n",
       "      <td>-8.00</td>\n",
       "    </tr>\n",
       "    <tr>\n",
       "      <th>1988-12-04</th>\n",
       "      <td>1988-12-04</td>\n",
       "      <td>-7.50</td>\n",
       "    </tr>\n",
       "    <tr>\n",
       "      <th>1988-12-05</th>\n",
       "      <td>1988-12-05</td>\n",
       "      <td>-0.50</td>\n",
       "    </tr>\n",
       "    <tr>\n",
       "      <th>1988-12-06</th>\n",
       "      <td>1988-12-06</td>\n",
       "      <td>-3.00</td>\n",
       "    </tr>\n",
       "    <tr>\n",
       "      <th>1988-12-07</th>\n",
       "      <td>1988-12-07</td>\n",
       "      <td>-12.50</td>\n",
       "    </tr>\n",
       "    <tr>\n",
       "      <th>1988-12-08</th>\n",
       "      <td>1988-12-08</td>\n",
       "      <td>-18.50</td>\n",
       "    </tr>\n",
       "    <tr>\n",
       "      <th>1988-12-09</th>\n",
       "      <td>1988-12-09</td>\n",
       "      <td>-23.50</td>\n",
       "    </tr>\n",
       "    <tr>\n",
       "      <th>1988-12-10</th>\n",
       "      <td>1988-12-10</td>\n",
       "      <td>-26.00</td>\n",
       "    </tr>\n",
       "    <tr>\n",
       "      <th>1988-12-11</th>\n",
       "      <td>1988-12-11</td>\n",
       "      <td>-15.50</td>\n",
       "    </tr>\n",
       "    <tr>\n",
       "      <th>1988-12-12</th>\n",
       "      <td>1988-12-12</td>\n",
       "      <td>-10.50</td>\n",
       "    </tr>\n",
       "    <tr>\n",
       "      <th>1988-12-13</th>\n",
       "      <td>1988-12-13</td>\n",
       "      <td>-2.00</td>\n",
       "    </tr>\n",
       "    <tr>\n",
       "      <th>1988-12-14</th>\n",
       "      <td>1988-12-14</td>\n",
       "      <td>-22.00</td>\n",
       "    </tr>\n",
       "    <tr>\n",
       "      <th>1988-12-15</th>\n",
       "      <td>1988-12-15</td>\n",
       "      <td>-19.50</td>\n",
       "    </tr>\n",
       "    <tr>\n",
       "      <th>1988-12-16</th>\n",
       "      <td>1988-12-16</td>\n",
       "      <td>-11.50</td>\n",
       "    </tr>\n",
       "    <tr>\n",
       "      <th>1988-12-17</th>\n",
       "      <td>1988-12-17</td>\n",
       "      <td>-13.50</td>\n",
       "    </tr>\n",
       "    <tr>\n",
       "      <th>1988-12-18</th>\n",
       "      <td>1988-12-18</td>\n",
       "      <td>-8.50</td>\n",
       "    </tr>\n",
       "    <tr>\n",
       "      <th>1988-12-19</th>\n",
       "      <td>1988-12-19</td>\n",
       "      <td>-8.50</td>\n",
       "    </tr>\n",
       "    <tr>\n",
       "      <th>1988-12-20</th>\n",
       "      <td>1988-12-20</td>\n",
       "      <td>-10.50</td>\n",
       "    </tr>\n",
       "    <tr>\n",
       "      <th>1988-12-21</th>\n",
       "      <td>1988-12-21</td>\n",
       "      <td>-12.00</td>\n",
       "    </tr>\n",
       "    <tr>\n",
       "      <th>1988-12-22</th>\n",
       "      <td>1988-12-22</td>\n",
       "      <td>-7.00</td>\n",
       "    </tr>\n",
       "    <tr>\n",
       "      <th>1988-12-23</th>\n",
       "      <td>1988-12-23</td>\n",
       "      <td>-14.75</td>\n",
       "    </tr>\n",
       "    <tr>\n",
       "      <th>1988-12-24</th>\n",
       "      <td>1988-12-24</td>\n",
       "      <td>-17.50</td>\n",
       "    </tr>\n",
       "    <tr>\n",
       "      <th>1988-12-25</th>\n",
       "      <td>1988-12-25</td>\n",
       "      <td>-22.25</td>\n",
       "    </tr>\n",
       "    <tr>\n",
       "      <th>1988-12-26</th>\n",
       "      <td>1988-12-26</td>\n",
       "      <td>-25.50</td>\n",
       "    </tr>\n",
       "    <tr>\n",
       "      <th>1988-12-27</th>\n",
       "      <td>1988-12-27</td>\n",
       "      <td>-22.50</td>\n",
       "    </tr>\n",
       "    <tr>\n",
       "      <th>1988-12-28</th>\n",
       "      <td>1988-12-28</td>\n",
       "      <td>-28.00</td>\n",
       "    </tr>\n",
       "    <tr>\n",
       "      <th>1988-12-29</th>\n",
       "      <td>1988-12-29</td>\n",
       "      <td>-27.00</td>\n",
       "    </tr>\n",
       "    <tr>\n",
       "      <th>1988-12-30</th>\n",
       "      <td>1988-12-30</td>\n",
       "      <td>-24.00</td>\n",
       "    </tr>\n",
       "    <tr>\n",
       "      <th>1988-12-31</th>\n",
       "      <td>1988-12-31</td>\n",
       "      <td>-23.75</td>\n",
       "    </tr>\n",
       "  </tbody>\n",
       "</table>\n",
       "<p>366 rows × 2 columns</p>\n",
       "</div>"
      ],
      "text/plain": [
       "                 Date  Mean temparature\n",
       "Date                                   \n",
       "1988-01-01 1988-01-01            -23.00\n",
       "1988-01-02 1988-01-02            -20.50\n",
       "1988-01-03 1988-01-03            -22.00\n",
       "1988-01-04 1988-01-04            -30.50\n",
       "1988-01-05 1988-01-05            -31.00\n",
       "1988-01-06 1988-01-06            -27.50\n",
       "1988-01-07 1988-01-07            -26.25\n",
       "1988-01-08 1988-01-08            -26.50\n",
       "1988-01-09 1988-01-09            -23.00\n",
       "1988-01-10 1988-01-10            -23.50\n",
       "1988-01-11 1988-01-11            -27.00\n",
       "1988-01-12 1988-01-12            -26.50\n",
       "1988-01-13 1988-01-13            -28.50\n",
       "1988-01-14 1988-01-14            -24.25\n",
       "1988-01-15 1988-01-15            -12.25\n",
       "1988-01-16 1988-01-16            -11.25\n",
       "1988-01-17 1988-01-17            -17.50\n",
       "1988-01-18 1988-01-18            -18.00\n",
       "1988-01-19 1988-01-19            -15.50\n",
       "1988-01-20 1988-01-20            -19.50\n",
       "1988-01-21 1988-01-21            -15.00\n",
       "1988-01-22 1988-01-22            -21.00\n",
       "1988-01-23 1988-01-23            -21.00\n",
       "1988-01-24 1988-01-24            -20.00\n",
       "1988-01-25 1988-01-25            -28.00\n",
       "1988-01-26 1988-01-26            -26.50\n",
       "1988-01-27 1988-01-27            -23.50\n",
       "1988-01-28 1988-01-28            -19.25\n",
       "1988-01-29 1988-01-29            -13.50\n",
       "1988-01-30 1988-01-30            -19.00\n",
       "...               ...               ...\n",
       "1988-12-02 1988-12-02             -4.00\n",
       "1988-12-03 1988-12-03             -8.00\n",
       "1988-12-04 1988-12-04             -7.50\n",
       "1988-12-05 1988-12-05             -0.50\n",
       "1988-12-06 1988-12-06             -3.00\n",
       "1988-12-07 1988-12-07            -12.50\n",
       "1988-12-08 1988-12-08            -18.50\n",
       "1988-12-09 1988-12-09            -23.50\n",
       "1988-12-10 1988-12-10            -26.00\n",
       "1988-12-11 1988-12-11            -15.50\n",
       "1988-12-12 1988-12-12            -10.50\n",
       "1988-12-13 1988-12-13             -2.00\n",
       "1988-12-14 1988-12-14            -22.00\n",
       "1988-12-15 1988-12-15            -19.50\n",
       "1988-12-16 1988-12-16            -11.50\n",
       "1988-12-17 1988-12-17            -13.50\n",
       "1988-12-18 1988-12-18             -8.50\n",
       "1988-12-19 1988-12-19             -8.50\n",
       "1988-12-20 1988-12-20            -10.50\n",
       "1988-12-21 1988-12-21            -12.00\n",
       "1988-12-22 1988-12-22             -7.00\n",
       "1988-12-23 1988-12-23            -14.75\n",
       "1988-12-24 1988-12-24            -17.50\n",
       "1988-12-25 1988-12-25            -22.25\n",
       "1988-12-26 1988-12-26            -25.50\n",
       "1988-12-27 1988-12-27            -22.50\n",
       "1988-12-28 1988-12-28            -28.00\n",
       "1988-12-29 1988-12-29            -27.00\n",
       "1988-12-30 1988-12-30            -24.00\n",
       "1988-12-31 1988-12-31            -23.75\n",
       "\n",
       "[366 rows x 2 columns]"
      ]
     },
     "execution_count": 9,
     "metadata": {},
     "output_type": "execute_result"
    }
   ],
   "source": [
    "a = df[df.index.year == 1988]\n",
    "a"
   ]
  },
  {
   "cell_type": "markdown",
   "metadata": {},
   "source": [
    "# Plot of Entire Data"
   ]
  },
  {
   "cell_type": "code",
   "execution_count": 10,
   "metadata": {},
   "outputs": [
    {
     "data": {
      "image/png": "[encoded data removed]",
      "text/plain": [
       "<Figure size 360x360 with 1 Axes>"
      ]
     },
     "metadata": {
      "needs_background": "light"
     },
     "output_type": "display_data"
    }
   ],
   "source": [
    "#Plotting Time Series\n",
    "plt.figure(figsize=(5,5))\n",
    "df[\"Mean temparature\"].plot(color=\"b\")\n",
    "plt.title(\"Temperrature Vs Date\")\n",
    "plt.xlabel(\"Date\")\n",
    "plt.ylabel(\"Mean temparature\")\n",
    "plt.savefig(\"13th-img\", format = \"png\", dpi =300)\n",
    "plt.show()"
   ]
  },
  {
   "cell_type": "markdown",
   "metadata": {},
   "source": [
    "# Weekly Basis"
   ]
  },
  {
   "cell_type": "code",
   "execution_count": 29,
   "metadata": {},
   "outputs": [
    {
     "data": {
      "text/plain": [
       "Date\n",
       "1988-01-03   -21.833333\n",
       "1988-01-10   -26.892857\n",
       "1988-01-17   -21.035714\n",
       "1988-01-24   -18.571429\n",
       "1988-01-31   -22.178571\n",
       "Freq: W-SUN, Name: Mean temparature, dtype: float64"
      ]
     },
     "execution_count": 29,
     "metadata": {},
     "output_type": "execute_result"
    }
   ],
   "source": [
    "weekly = df['Mean temparature'].resample('w')\n",
    "weekly_mean = weekly.mean()\n",
    "weekly_mean.head()"
   ]
  },
  {
   "cell_type": "code",
   "execution_count": 21,
   "metadata": {},
   "outputs": [
    {
     "data": {
      "image/png": "[encoded data removed]",
      "text/plain": [
       "<Figure size 360x360 with 1 Axes>"
      ]
     },
     "metadata": {
      "needs_background": "light"
     },
     "output_type": "display_data"
    }
   ],
   "source": [
    "plt.figure(figsize=(5,5))\n",
    "weekly_mean.plot(color=\"r\")\n",
    "plt.title(\"Weekly Basis\")\n",
    "plt.xlabel(\"Time\")\n",
    "plt.ylabel(\"Mean temparature\")\n",
    "plt.savefig(\"14th-img\", format = \"png\", dpi =300)\n",
    "plt.show()"
   ]
  },
  {
   "cell_type": "markdown",
   "metadata": {},
   "source": [
    "# Monthly Basis"
   ]
  },
  {
   "cell_type": "code",
   "execution_count": 25,
   "metadata": {},
   "outputs": [],
   "source": [
    "monthly = df['Mean temparature'].resample('m')\n",
    "monthly_mean = monthly.mean()\n"
   ]
  },
  {
   "cell_type": "code",
   "execution_count": 26,
   "metadata": {},
   "outputs": [
    {
     "data": {
      "image/png": "[encoded data removed]",
      "text/plain": [
       "<Figure size 360x360 with 1 Axes>"
      ]
     },
     "metadata": {
      "needs_background": "light"
     },
     "output_type": "display_data"
    }
   ],
   "source": [
    "plt.figure(figsize=(5,5))\n",
    "monthly_mean.plot(color=\"g\")\n",
    "plt.title(\"Monthly Basis\")\n",
    "plt.xlabel(\"Time\")\n",
    "plt.ylabel(\"Mean temparature\")\n",
    "plt.savefig(\"15th-img\", format = \"png\", dpi =300)\n",
    "plt.show()"
   ]
  },
  {
   "cell_type": "markdown",
   "metadata": {},
   "source": [
    "# Time series for January"
   ]
  },
  {
   "cell_type": "code",
   "execution_count": 11,
   "metadata": {},
   "outputs": [
    {
     "data": {
      "text/html": [
       "<div>\n",
       "<style scoped>\n",
       "    .dataframe tbody tr th:only-of-type {\n",
       "        vertical-align: middle;\n",
       "    }\n",
       "\n",
       "    .dataframe tbody tr th {\n",
       "        vertical-align: top;\n",
       "    }\n",
       "\n",
       "    .dataframe thead th {\n",
       "        text-align: right;\n",
       "    }\n",
       "</style>\n",
       "<table border=\"1\" class=\"dataframe\">\n",
       "  <thead>\n",
       "    <tr style=\"text-align: right;\">\n",
       "      <th></th>\n",
       "      <th>Date</th>\n",
       "      <th>Mean temparature</th>\n",
       "    </tr>\n",
       "    <tr>\n",
       "      <th>Date</th>\n",
       "      <th></th>\n",
       "      <th></th>\n",
       "    </tr>\n",
       "  </thead>\n",
       "  <tbody>\n",
       "    <tr>\n",
       "      <th>1988-01-01</th>\n",
       "      <td>1988-01-01</td>\n",
       "      <td>-23.00</td>\n",
       "    </tr>\n",
       "    <tr>\n",
       "      <th>1988-01-02</th>\n",
       "      <td>1988-01-02</td>\n",
       "      <td>-20.50</td>\n",
       "    </tr>\n",
       "    <tr>\n",
       "      <th>1988-01-03</th>\n",
       "      <td>1988-01-03</td>\n",
       "      <td>-22.00</td>\n",
       "    </tr>\n",
       "    <tr>\n",
       "      <th>1988-01-04</th>\n",
       "      <td>1988-01-04</td>\n",
       "      <td>-30.50</td>\n",
       "    </tr>\n",
       "    <tr>\n",
       "      <th>1988-01-05</th>\n",
       "      <td>1988-01-05</td>\n",
       "      <td>-31.00</td>\n",
       "    </tr>\n",
       "    <tr>\n",
       "      <th>1988-01-06</th>\n",
       "      <td>1988-01-06</td>\n",
       "      <td>-27.50</td>\n",
       "    </tr>\n",
       "    <tr>\n",
       "      <th>1988-01-07</th>\n",
       "      <td>1988-01-07</td>\n",
       "      <td>-26.25</td>\n",
       "    </tr>\n",
       "    <tr>\n",
       "      <th>1988-01-08</th>\n",
       "      <td>1988-01-08</td>\n",
       "      <td>-26.50</td>\n",
       "    </tr>\n",
       "    <tr>\n",
       "      <th>1988-01-09</th>\n",
       "      <td>1988-01-09</td>\n",
       "      <td>-23.00</td>\n",
       "    </tr>\n",
       "    <tr>\n",
       "      <th>1988-01-10</th>\n",
       "      <td>1988-01-10</td>\n",
       "      <td>-23.50</td>\n",
       "    </tr>\n",
       "    <tr>\n",
       "      <th>1988-01-11</th>\n",
       "      <td>1988-01-11</td>\n",
       "      <td>-27.00</td>\n",
       "    </tr>\n",
       "    <tr>\n",
       "      <th>1988-01-12</th>\n",
       "      <td>1988-01-12</td>\n",
       "      <td>-26.50</td>\n",
       "    </tr>\n",
       "    <tr>\n",
       "      <th>1988-01-13</th>\n",
       "      <td>1988-01-13</td>\n",
       "      <td>-28.50</td>\n",
       "    </tr>\n",
       "    <tr>\n",
       "      <th>1988-01-14</th>\n",
       "      <td>1988-01-14</td>\n",
       "      <td>-24.25</td>\n",
       "    </tr>\n",
       "    <tr>\n",
       "      <th>1988-01-15</th>\n",
       "      <td>1988-01-15</td>\n",
       "      <td>-12.25</td>\n",
       "    </tr>\n",
       "    <tr>\n",
       "      <th>1988-01-16</th>\n",
       "      <td>1988-01-16</td>\n",
       "      <td>-11.25</td>\n",
       "    </tr>\n",
       "    <tr>\n",
       "      <th>1988-01-17</th>\n",
       "      <td>1988-01-17</td>\n",
       "      <td>-17.50</td>\n",
       "    </tr>\n",
       "    <tr>\n",
       "      <th>1988-01-18</th>\n",
       "      <td>1988-01-18</td>\n",
       "      <td>-18.00</td>\n",
       "    </tr>\n",
       "    <tr>\n",
       "      <th>1988-01-19</th>\n",
       "      <td>1988-01-19</td>\n",
       "      <td>-15.50</td>\n",
       "    </tr>\n",
       "    <tr>\n",
       "      <th>1988-01-20</th>\n",
       "      <td>1988-01-20</td>\n",
       "      <td>-19.50</td>\n",
       "    </tr>\n",
       "    <tr>\n",
       "      <th>1988-01-21</th>\n",
       "      <td>1988-01-21</td>\n",
       "      <td>-15.00</td>\n",
       "    </tr>\n",
       "    <tr>\n",
       "      <th>1988-01-22</th>\n",
       "      <td>1988-01-22</td>\n",
       "      <td>-21.00</td>\n",
       "    </tr>\n",
       "    <tr>\n",
       "      <th>1988-01-23</th>\n",
       "      <td>1988-01-23</td>\n",
       "      <td>-21.00</td>\n",
       "    </tr>\n",
       "    <tr>\n",
       "      <th>1988-01-24</th>\n",
       "      <td>1988-01-24</td>\n",
       "      <td>-20.00</td>\n",
       "    </tr>\n",
       "    <tr>\n",
       "      <th>1988-01-25</th>\n",
       "      <td>1988-01-25</td>\n",
       "      <td>-28.00</td>\n",
       "    </tr>\n",
       "    <tr>\n",
       "      <th>1988-01-26</th>\n",
       "      <td>1988-01-26</td>\n",
       "      <td>-26.50</td>\n",
       "    </tr>\n",
       "    <tr>\n",
       "      <th>1988-01-27</th>\n",
       "      <td>1988-01-27</td>\n",
       "      <td>-23.50</td>\n",
       "    </tr>\n",
       "    <tr>\n",
       "      <th>1988-01-28</th>\n",
       "      <td>1988-01-28</td>\n",
       "      <td>-19.25</td>\n",
       "    </tr>\n",
       "    <tr>\n",
       "      <th>1988-01-29</th>\n",
       "      <td>1988-01-29</td>\n",
       "      <td>-13.50</td>\n",
       "    </tr>\n",
       "    <tr>\n",
       "      <th>1988-01-30</th>\n",
       "      <td>1988-01-30</td>\n",
       "      <td>-19.00</td>\n",
       "    </tr>\n",
       "    <tr>\n",
       "      <th>1988-01-31</th>\n",
       "      <td>1988-01-31</td>\n",
       "      <td>-25.50</td>\n",
       "    </tr>\n",
       "  </tbody>\n",
       "</table>\n",
       "</div>"
      ],
      "text/plain": [
       "                 Date  Mean temparature\n",
       "Date                                   \n",
       "1988-01-01 1988-01-01            -23.00\n",
       "1988-01-02 1988-01-02            -20.50\n",
       "1988-01-03 1988-01-03            -22.00\n",
       "1988-01-04 1988-01-04            -30.50\n",
       "1988-01-05 1988-01-05            -31.00\n",
       "1988-01-06 1988-01-06            -27.50\n",
       "1988-01-07 1988-01-07            -26.25\n",
       "1988-01-08 1988-01-08            -26.50\n",
       "1988-01-09 1988-01-09            -23.00\n",
       "1988-01-10 1988-01-10            -23.50\n",
       "1988-01-11 1988-01-11            -27.00\n",
       "1988-01-12 1988-01-12            -26.50\n",
       "1988-01-13 1988-01-13            -28.50\n",
       "1988-01-14 1988-01-14            -24.25\n",
       "1988-01-15 1988-01-15            -12.25\n",
       "1988-01-16 1988-01-16            -11.25\n",
       "1988-01-17 1988-01-17            -17.50\n",
       "1988-01-18 1988-01-18            -18.00\n",
       "1988-01-19 1988-01-19            -15.50\n",
       "1988-01-20 1988-01-20            -19.50\n",
       "1988-01-21 1988-01-21            -15.00\n",
       "1988-01-22 1988-01-22            -21.00\n",
       "1988-01-23 1988-01-23            -21.00\n",
       "1988-01-24 1988-01-24            -20.00\n",
       "1988-01-25 1988-01-25            -28.00\n",
       "1988-01-26 1988-01-26            -26.50\n",
       "1988-01-27 1988-01-27            -23.50\n",
       "1988-01-28 1988-01-28            -19.25\n",
       "1988-01-29 1988-01-29            -13.50\n",
       "1988-01-30 1988-01-30            -19.00\n",
       "1988-01-31 1988-01-31            -25.50"
      ]
     },
     "execution_count": 11,
     "metadata": {},
     "output_type": "execute_result"
    }
   ],
   "source": [
    "df_Jan= df['1988-01-01':'1988-01-31']\n",
    "df_Jan"
   ]
  },
  {
   "cell_type": "code",
   "execution_count": 12,
   "metadata": {},
   "outputs": [
    {
     "data": {
      "image/png": "[encoded data removed]",
      "text/plain": [
       "<Figure size 360x360 with 1 Axes>"
      ]
     },
     "metadata": {
      "needs_background": "light"
     },
     "output_type": "display_data"
    }
   ],
   "source": [
    "plt.figure(figsize=(5,5))\n",
    "df_Jan[\"Mean temparature\"].plot(color=\"r\")\n",
    "plt.title(\"Temperrature Vs Month of Jan\")\n",
    "plt.xlabel(\"Date\")\n",
    "plt.ylabel(\"Mean temparature\")\n",
    "plt.savefig(\"13th-img\", format = \"png\", dpi =300)\n",
    "plt.show()"
   ]
  },
  {
   "cell_type": "markdown",
   "metadata": {},
   "source": [
    "# Plot for the Year 1988"
   ]
  },
  {
   "cell_type": "code",
   "execution_count": 13,
   "metadata": {},
   "outputs": [],
   "source": [
    "df_1988 = df[df.index.year == 1988]"
   ]
  },
  {
   "cell_type": "code",
   "execution_count": 14,
   "metadata": {},
   "outputs": [
    {
     "data": {
      "image/png": "[encoded data removed]",
      "text/plain": [
       "<Figure size 360x360 with 1 Axes>"
      ]
     },
     "metadata": {
      "needs_background": "light"
     },
     "output_type": "display_data"
    }
   ],
   "source": [
    "plt.figure(figsize=(5,5))\n",
    "df_1988[\"Mean temparature\"].plot(color=\"r\")\n",
    "plt.title(\"Temperrature Vs Month of Jan\")\n",
    "plt.xlabel(\"Date\")\n",
    "plt.ylabel(\"Mean temparature\")\n",
    "plt.savefig(\"13th-img\", format = \"png\", dpi =300)\n",
    "plt.show()"
   ]
  },
  {
   "cell_type": "markdown",
   "metadata": {},
   "source": [
    "# All PLOTS ON SAME AXIS"
   ]
  },
  {
   "cell_type": "code",
   "execution_count": 30,
   "metadata": {
    "scrolled": true
   },
   "outputs": [
    {
     "data": {
      "image/png": "[encoded data removed]",
      "text/plain": [
       "<Figure size 432x288 with 1 Axes>"
      ]
     },
     "metadata": {
      "needs_background": "light"
     },
     "output_type": "display_data"
    },
    {
     "data": {
      "image/png": "[encoded data removed]",
      "text/plain": [
       "<Figure size 432x288 with 1 Axes>"
      ]
     },
     "metadata": {
      "needs_background": "light"
     },
     "output_type": "display_data"
    },
    {
     "data": {
      "image/png": "[encoded data removed]",
      "text/plain": [
       "<Figure size 432x288 with 1 Axes>"
      ]
     },
     "metadata": {
      "needs_background": "light"
     },
     "output_type": "display_data"
    }
   ],
   "source": [
    "#fig, (ax1, ax2, ax3) = plt.subplots(nrows=3, ncols=1, sharex= True)\n",
    "#fig = plt.figure(figsize=(10,6))\n",
    "fig1, ax1=plt.subplots()\n",
    "fig2, ax2=plt.subplots()\n",
    "fig3, ax3=plt.subplots()\n",
    "\n",
    "ax1.plot(df['Mean temparature'], color='b')\n",
    "ax1.set_title('Daily Mean temperature')\n",
    "\n",
    "ax2.plot(weekly_mean, color='r')\n",
    "ax2.set_title('weekly Mean temperature')\n",
    "\n",
    "ax3.plot(monthly_mean, color='g')\n",
    "ax3.set_title('Monthly Mean temperature')\n",
    "\n",
    "plt.xlabel('Time')\n",
    "\n",
    "\n",
    "plt.savefig('Mean.png', format= 'png', dpi=300)"
   ]
  },
  {
   "cell_type": "code",
   "execution_count": null,
   "metadata": {},
   "outputs": [],
   "source": []
  }
 ],
 "metadata": {
  "kernelspec": {
   "display_name": "Python 3",
   "language": "python",
   "name": "python3"
  },
  "language_info": {
   "codemirror_mode": {
    "name": "ipython",
    "version": 3
   },
   "file_extension": ".py",
   "mimetype": "text/x-python",
   "name": "python",
   "nbconvert_exporter": "python",
   "pygments_lexer": "ipython3",
   "version": "3.7.3"
  }
 },
 "nbformat": 4,
 "nbformat_minor": 2
}
